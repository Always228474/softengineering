import pandas as pd
from sklearn.model_selection import train_test_split
from sklearn.linear_model import LinearRegression
from sklearn.metrics import mean_absolute_error, r2_score
import joblib
import pickle
import os

# Load the dataset
file_path = "/Users/jennifercasavantes/Downloads/final_merged_data.csv"

if not os.path.exists(file_path):
    raise FileNotFoundError(f"CSV file not found at {file_path}")

data = pd.read_csv(file_path)

# Check if all required columns are present
required_columns = ['station_id', 'num_bikes_available', 'num_docks_available', 'is_installed', 'is_renting', 'is_returning', 'name', 'address', 'lat', 'lon', 'capacity', 'stno', 'year', 'month', 'day', 'hour', 'minute', 'max_air_temp_quality_indicator', 'max_air_temperature_celsius', 'min_air_temp_quality_indicator', 'min_air_temperature_celsius', 'air_temp_std_quality_indicator'  ]
missing_cols = [col for col in required_columns if col not in data.columns]
if missing_cols:
    raise ValueError(f"Missing required columns in dataset: {missing_cols}")

# Drop rows with missing values
data.dropna(subset=required_columns, inplace=True)

# Define features and target
features = ['station_id', 'num_bikes_available', 'num_docks_available', 'is_installed', 'is_renting', 'is_returning', 'name', 'address']
target = 'num_bikes_available'

X = data[features]
y = data[target]

# One-hot encode categorical features ('name' and 'address')
X_encoded = pd.get_dummies(X, columns=['name', 'address'], drop_first=True)

# Split the data
X_train, X_test, y_train, y_test = train_test_split(X_encoded, y, test_size=0.3, random_state=42)

# Train the model
model = LinearRegression()
model.fit(X_train, y_train)

# Predict and evaluate
y_pred = model.predict(X_test)

mae = mean_absolute_error(y_test, y_pred)
r2 = r2_score(y_test, y_pred)

print(f"✅ Model Evaluation")
print(f"Mean Absolute Error: {mae:.2f}")
print(f"R² Score: {r2:.4f}")

# Display coefficients
print("\n📊 Model Coefficients:")
for feature, coef in zip(X_encoded.columns, model.coef_):
    print(f"{feature}: {coef:.4f}")
print(f"Intercept: {model.intercept_:.4f}")

# Save the model (.joblib)
joblib_path = "bike_availability_model.joblib"
joblib.dump(model, joblib_path)
print(f"💾 Model saved to {joblib_path}")

# Save the model (.pkl)
pkl_path = "bike_availability_model.pkl"
with open(pkl_path, "wb") as f:
    pickle.dump(model, f)
print(f"💾 Model also saved to {pkl_path}")
